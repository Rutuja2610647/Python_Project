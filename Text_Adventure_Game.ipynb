{
  "nbformat": 4,
  "nbformat_minor": 0,
  "metadata": {
    "colab": {
      "provenance": [],
      "authorship_tag": "ABX9TyMqNAJpnvXOuUQY4wmvsTRA",
      "include_colab_link": true
    },
    "kernelspec": {
      "name": "python3",
      "display_name": "Python 3"
    },
    "language_info": {
      "name": "python"
    }
  },
  "cells": [
    {
      "cell_type": "markdown",
      "metadata": {
        "id": "view-in-github",
        "colab_type": "text"
      },
      "source": [
        "<a href=\"https://colab.research.google.com/github/Rutuja2610647/Python_Project/blob/main/Text_Adventure_Game.ipynb\" target=\"_parent\"><img src=\"https://colab.research.google.com/assets/colab-badge.svg\" alt=\"Open In Colab\"/></a>"
      ]
    },
    {
      "cell_type": "code",
      "source": [
        "# Step 1: Define the game world using dictionaries\n",
        "\n",
        "rooms = {\n",
        "    \"Hall\": {\n",
        "        \"description\": \"You are in a grand hall. There's a door to the north and east.\",\n",
        "        \"items\": [\"map\"],\n",
        "        \"exits\": {\"north\": \"Library\", \"east\": \"Kitchen\"}\n",
        "    },\n",
        "    \"Kitchen\": {\n",
        "        \"description\": \"You're in the kitchen. It smells delicious. There's a shiny key here.\",\n",
        "        \"items\": [\"key\"],\n",
        "        \"exits\": {\"west\": \"Hall\", \"south\": \"Basement\"}\n",
        "    },\n",
        "    \"Library\": {\n",
        "        \"description\": \"Rows of books surround you. A locked chest is here.\",\n",
        "        \"items\": [\"chest\"],\n",
        "        \"exits\": {\"south\": \"Hall\"}\n",
        "    },\n",
        "    \"Basement\": {\n",
        "        \"description\": \"It's dark and creepy. You feel uneasy.\",\n",
        "        \"items\": [],\n",
        "        \"exits\": {\"north\": \"Kitchen\", \"east\": \"Treasure Room\"}\n",
        "    },\n",
        "    \"Treasure Room\": {\n",
        "        \"description\": \"You've entered the treasure room! You see a golden trophy!\",\n",
        "        \"items\": [\"trophy\"],\n",
        "        \"exits\": {\"west\": \"Basement\"}\n",
        "    }\n",
        "}\n"
      ],
      "metadata": {
        "id": "zGJMBl1Tr6Jo"
      },
      "execution_count": 2,
      "outputs": []
    },
    {
      "cell_type": "code",
      "source": [
        "# Step 2: Initialize game state\n",
        "current_room = \"Hall\"\n",
        "inventory = []"
      ],
      "metadata": {
        "id": "IaWiUEs8sGnc"
      },
      "execution_count": 3,
      "outputs": []
    },
    {
      "cell_type": "code",
      "source": [
        "# Step 3: Define helper functions\n",
        "def show_status():\n",
        "    print(\"\\n==========\")\n",
        "    print(f\"You are in the {current_room}\")\n",
        "    print(rooms[current_room][\"description\"])\n",
        "    print(f\"Items in the room: {rooms[current_room]['items']}\")\n",
        "    print(f\"Your inventory: {inventory}\")\n",
        "    print(\"==========\")"
      ],
      "metadata": {
        "id": "tXKHnvqcsJ_v"
      },
      "execution_count": 4,
      "outputs": []
    },
    {
      "cell_type": "code",
      "source": [
        "def take(item):\n",
        "    if item in rooms[current_room][\"items\"]:\n",
        "        inventory.append(item)\n",
        "        rooms[current_room][\"items\"].remove(item)\n",
        "        print(f\"You picked up the {item}.\")\n",
        "    else:\n",
        "        print(f\"No {item} here to take.\")"
      ],
      "metadata": {
        "id": "_LXJY8VhsOhh"
      },
      "execution_count": 5,
      "outputs": []
    },
    {
      "cell_type": "code",
      "source": [
        "def use(item):\n",
        "    if item == \"key\" and \"chest\" in rooms[current_room][\"items\"]:\n",
        "        print(\"You unlocked the chest and found a secret path!\")\n",
        "        rooms[current_room][\"items\"].remove(\"chest\")\n",
        "        rooms[\"Library\"][\"exits\"][\"east\"] = \"Secret Room\"\n",
        "        rooms[\"Secret Room\"] = {\n",
        "            \"description\": \"A hidden room with ancient scrolls!\",\n",
        "            \"items\": [\"magic scroll\"],\n",
        "            \"exits\": {\"west\": \"Library\"}\n",
        "        }\n",
        "    elif item in inventory:\n",
        "        print(f\"You used the {item}, but nothing happened.\")\n",
        "    else:\n",
        "        print(f\"You don't have {item}.\")"
      ],
      "metadata": {
        "id": "SpYEdcAosWYH"
      },
      "execution_count": 6,
      "outputs": []
    },
    {
      "cell_type": "code",
      "source": [
        "# Step 4: Main game loop\n",
        "print(\"Welcome to the Text Adventure Game!\")\n"
      ],
      "metadata": {
        "colab": {
          "base_uri": "https://localhost:8080/"
        },
        "id": "fvtyJRm6sc1E",
        "outputId": "0517c682-b0ff-4b17-9718-21b83d8fb750"
      },
      "execution_count": 7,
      "outputs": [
        {
          "output_type": "stream",
          "name": "stdout",
          "text": [
            "Welcome to the Text Adventure Game!\n"
          ]
        }
      ]
    },
    {
      "cell_type": "code",
      "source": [
        "while True:\n",
        "    show_status()\n",
        "    command = input(\"Enter command (go/take/use/quit): \").strip().lower().split()\n",
        "\n",
        "    if not command:\n",
        "        continue\n",
        "\n",
        "    action = command[0]\n",
        "\n",
        "    if action == \"quit\":\n",
        "        print(\"Thanks for playing!\")\n",
        "        break\n",
        "    elif action == \"go\" and len(command) > 1:\n",
        "        move(command[1])\n",
        "    elif action == \"take\" and len(command) > 1:\n",
        "        take(command[1])\n",
        "    elif action == \"use\" and len(command) > 1:\n",
        "        use(command[1])\n",
        "    else:\n",
        "        print(\"Invalid command. Try: go, take, use, or quit.\")"
      ],
      "metadata": {
        "colab": {
          "base_uri": "https://localhost:8080/"
        },
        "id": "9Km0wr3sshYX",
        "outputId": "14666e2d-648f-428a-9b4d-ffb67145b16b"
      },
      "execution_count": null,
      "outputs": [
        {
          "output_type": "stream",
          "name": "stdout",
          "text": [
            "\n",
            "==========\n",
            "You are in the Hall\n",
            "You are in a grand hall. There's a door to the north and east.\n",
            "Items in the room: ['map']\n",
            "Your inventory: []\n",
            "==========\n"
          ]
        }
      ]
    },
    {
      "cell_type": "code",
      "source": [],
      "metadata": {
        "id": "CvW4Ydaospo3"
      },
      "execution_count": null,
      "outputs": []
    }
  ]
}