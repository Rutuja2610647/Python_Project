{
  "nbformat": 4,
  "nbformat_minor": 0,
  "metadata": {
    "colab": {
      "provenance": [],
      "authorship_tag": "ABX9TyOpRuPmq3Jju/dETb58rMZC",
      "include_colab_link": true
    },
    "kernelspec": {
      "name": "python3",
      "display_name": "Python 3"
    },
    "language_info": {
      "name": "python"
    }
  },
  "cells": [
    {
      "cell_type": "markdown",
      "metadata": {
        "id": "view-in-github",
        "colab_type": "text"
      },
      "source": [
        "<a href=\"https://colab.research.google.com/github/Rutuja2610647/Python_Project/blob/main/API_Development_for_KPA.ipynb\" target=\"_parent\"><img src=\"https://colab.research.google.com/assets/colab-badge.svg\" alt=\"Open In Colab\"/></a>"
      ]
    },
    {
      "cell_type": "markdown",
      "source": [
        "STEP 1 : Install libraries"
      ],
      "metadata": {
        "id": "HTNM_X9jXAdH"
      }
    },
    {
      "cell_type": "code",
      "execution_count": null,
      "metadata": {
        "colab": {
          "base_uri": "https://localhost:8080/"
        },
        "id": "kTDVvFLpW8PK",
        "outputId": "109b2f9a-3812-4b93-dee8-363b497b0702"
      },
      "outputs": [
        {
          "output_type": "stream",
          "name": "stdout",
          "text": [
            "Requirement already satisfied: fastapi in /usr/local/lib/python3.11/dist-packages (0.116.1)\n",
            "Requirement already satisfied: uvicorn in /usr/local/lib/python3.11/dist-packages (0.35.0)\n",
            "Collecting pyngrok\n",
            "  Downloading pyngrok-7.2.12-py3-none-any.whl.metadata (9.4 kB)\n",
            "Requirement already satisfied: nest-asyncio in /usr/local/lib/python3.11/dist-packages (1.6.0)\n",
            "Requirement already satisfied: pydantic[dotenv] in /usr/local/lib/python3.11/dist-packages (2.11.7)\n",
            "Requirement already satisfied: starlette<0.48.0,>=0.40.0 in /usr/local/lib/python3.11/dist-packages (from fastapi) (0.47.1)\n",
            "Requirement already satisfied: typing-extensions>=4.8.0 in /usr/local/lib/python3.11/dist-packages (from fastapi) (4.14.1)\n",
            "Requirement already satisfied: click>=7.0 in /usr/local/lib/python3.11/dist-packages (from uvicorn) (8.2.1)\n",
            "Requirement already satisfied: h11>=0.8 in /usr/local/lib/python3.11/dist-packages (from uvicorn) (0.16.0)\n",
            "Requirement already satisfied: PyYAML>=5.1 in /usr/local/lib/python3.11/dist-packages (from pyngrok) (6.0.2)\n",
            "\u001b[33mWARNING: pydantic 2.11.7 does not provide the extra 'dotenv'\u001b[0m\u001b[33m\n",
            "\u001b[0mRequirement already satisfied: annotated-types>=0.6.0 in /usr/local/lib/python3.11/dist-packages (from pydantic[dotenv]) (0.7.0)\n",
            "Requirement already satisfied: pydantic-core==2.33.2 in /usr/local/lib/python3.11/dist-packages (from pydantic[dotenv]) (2.33.2)\n",
            "Requirement already satisfied: typing-inspection>=0.4.0 in /usr/local/lib/python3.11/dist-packages (from pydantic[dotenv]) (0.4.1)\n",
            "Requirement already satisfied: anyio<5,>=3.6.2 in /usr/local/lib/python3.11/dist-packages (from starlette<0.48.0,>=0.40.0->fastapi) (4.9.0)\n",
            "Requirement already satisfied: idna>=2.8 in /usr/local/lib/python3.11/dist-packages (from anyio<5,>=3.6.2->starlette<0.48.0,>=0.40.0->fastapi) (3.10)\n",
            "Requirement already satisfied: sniffio>=1.1 in /usr/local/lib/python3.11/dist-packages (from anyio<5,>=3.6.2->starlette<0.48.0,>=0.40.0->fastapi) (1.3.1)\n",
            "Downloading pyngrok-7.2.12-py3-none-any.whl (26 kB)\n",
            "Installing collected packages: pyngrok\n",
            "Successfully installed pyngrok-7.2.12\n"
          ]
        }
      ],
      "source": [
        "!pip install fastapi uvicorn pyngrok nest-asyncio pydantic[dotenv]"
      ]
    },
    {
      "cell_type": "markdown",
      "source": [
        " STEP 2: import  Modules"
      ],
      "metadata": {
        "id": "5Hu3uhtAXZuW"
      }
    },
    {
      "cell_type": "code",
      "source": [
        "from fastapi import FastAPI\n",
        "from pydantic import BaseModel\n",
        "from pyngrok import ngrok\n",
        "import nest_asyncio\n",
        "import uvicorn"
      ],
      "metadata": {
        "id": "RUBOHxhPXRSK"
      },
      "execution_count": null,
      "outputs": []
    },
    {
      "cell_type": "markdown",
      "source": [
        " STEP 3: Define Pydantic model For Input data"
      ],
      "metadata": {
        "id": "ulNUbB-dXoIk"
      }
    },
    {
      "cell_type": "code",
      "source": [
        "class InputData(BaseModel):\n",
        "    name: str\n",
        "    age: int"
      ],
      "metadata": {
        "id": "X60K6BgMXfV9"
      },
      "execution_count": null,
      "outputs": []
    },
    {
      "cell_type": "markdown",
      "source": [
        "STEP 4: Define FastAPI app And endpoints"
      ],
      "metadata": {
        "id": "KH0ptkIfYFZJ"
      }
    },
    {
      "cell_type": "code",
      "source": [
        "app = FastAPI()\n",
        "\n",
        "@app.get(\"/\")\n",
        "def root():\n",
        "    return {\"message\": \"API is running!\"}\n",
        "\n",
        "@app.post(\"/predict\")\n",
        "def predict(data: InputData):\n",
        "    age_group = \"Adult\" if data.age >= 18 else \"Minor\"\n",
        "    return {\n",
        "        \"name\": data.name,\n",
        "        \"age\": data.age,\n",
        "        \"category\": age_group\n",
        "    }"
      ],
      "metadata": {
        "id": "o6PhlzpzX67A"
      },
      "execution_count": null,
      "outputs": []
    },
    {
      "cell_type": "markdown",
      "source": [
        "STEP 5: Ngrok tunnel"
      ],
      "metadata": {
        "id": "K0on9lGaYT5H"
      }
    },
    {
      "cell_type": "code",
      "source": [
        "ngrok.set_auth_token(\"307p89yX8dpgfxHGNRtpxIilhzH_2EkKA6DBX4jDZH3U6J2R6\")\n",
        "public_url = ngrok.connect(8000)\n",
        "print(\"🚀 Public URL:\", public_url)"
      ],
      "metadata": {
        "colab": {
          "base_uri": "https://localhost:8080/"
        },
        "id": "6_cXo8hLYSl-",
        "outputId": "fa804d66-c3ac-441f-dd87-33dfdc34f3d7"
      },
      "execution_count": null,
      "outputs": [
        {
          "output_type": "stream",
          "name": "stdout",
          "text": [
            "🚀 Public URL: NgrokTunnel: \"https://bc5af6cb251d.ngrok-free.app\" -> \"http://localhost:8000\"\n"
          ]
        }
      ]
    },
    {
      "cell_type": "markdown",
      "source": [
        " STEP 6: FastAPI app run"
      ],
      "metadata": {
        "id": "MJUwWRMvYpWl"
      }
    },
    {
      "cell_type": "code",
      "source": [
        "nest_asyncio.apply()\n",
        "uvicorn.run(app, port=8000)"
      ],
      "metadata": {
        "colab": {
          "base_uri": "https://localhost:8080/"
        },
        "id": "l8y8sHP4YjH9",
        "outputId": "5d04f728-272b-45d9-90db-e3a3a0cbf32e"
      },
      "execution_count": null,
      "outputs": [
        {
          "metadata": {
            "tags": null
          },
          "name": "stderr",
          "output_type": "stream",
          "text": [
            "INFO:     Started server process [150]\n",
            "INFO:     Waiting for application startup.\n",
            "INFO:     Application startup complete.\n",
            "INFO:     Uvicorn running on http://127.0.0.1:8000 (Press CTRL+C to quit)\n"
          ]
        }
      ]
    },
    {
      "cell_type": "code",
      "source": [
        "ngrok.set_auth_token(\"307p89yX8dpgfxHGNRtpxIilhzH_2EkKA6DBX4jDZH3U6J2R6\")\n",
        "public_url = ngrok.connect(8000)\n",
        "print(\"🚀 Public URL:\", public_url)"
      ],
      "metadata": {
        "colab": {
          "base_uri": "https://localhost:8080/"
        },
        "id": "XyidNjruajXY",
        "outputId": "244399bd-495d-4710-a599-4aa9ec03996e"
      },
      "execution_count": null,
      "outputs": [
        {
          "output_type": "stream",
          "name": "stdout",
          "text": [
            "🚀 Public URL: NgrokTunnel: \"https://7b2f14cd3807.ngrok-free.app\" -> \"http://localhost:8000\"\n"
          ]
        }
      ]
    }
  ]
}