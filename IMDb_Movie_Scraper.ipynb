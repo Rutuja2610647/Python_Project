{
  "nbformat": 4,
  "nbformat_minor": 0,
  "metadata": {
    "colab": {
      "provenance": [],
      "authorship_tag": "ABX9TyPbZF1WzG0oXvfNWX85FcBA",
      "include_colab_link": true
    },
    "kernelspec": {
      "name": "python3",
      "display_name": "Python 3"
    },
    "language_info": {
      "name": "python"
    }
  },
  "cells": [
    {
      "cell_type": "markdown",
      "metadata": {
        "id": "view-in-github",
        "colab_type": "text"
      },
      "source": [
        "<a href=\"https://colab.research.google.com/github/Rutuja2610647/Python_Project/blob/main/IMDb_Movie_Scraper.ipynb\" target=\"_parent\"><img src=\"https://colab.research.google.com/assets/colab-badge.svg\" alt=\"Open In Colab\"/></a>"
      ]
    },
    {
      "cell_type": "code",
      "execution_count": 2,
      "metadata": {
        "id": "acPI7k-4oJBw"
      },
      "outputs": [],
      "source": [
        "# Step 1: Import libraries\n",
        "import pandas as pd\n",
        "from bs4 import BeautifulSoup"
      ]
    },
    {
      "cell_type": "code",
      "source": [
        "# Step 2: Sample mock HTML (replace this with real response.text when using requests)\n",
        "html = '''\n",
        "<table class=\"chart full-width\" data-caller-name=\"chart-top250movie\">\n",
        "    <tbody>\n",
        "        <tr>\n",
        "            <td class=\"titleColumn\">\n",
        "                1.\n",
        "                <a href=\"/title/tt0111161/\">The Shawshank Redemption</a>\n",
        "                <span class=\"secondaryInfo\">(1994)</span>\n",
        "            </td>\n",
        "            <td class=\"ratingColumn imdbRating\">\n",
        "                <strong title=\"9.2 based on 2,700,000 user ratings\">9.2</strong>\n",
        "            </td>\n",
        "        </tr>\n",
        "        <tr>\n",
        "            <td class=\"titleColumn\">\n",
        "                2.\n",
        "                <a href=\"/title/tt0068646/\">The Godfather</a>\n",
        "                <span class=\"secondaryInfo\">(1972)</span>\n",
        "            </td>\n",
        "            <td class=\"ratingColumn imdbRating\">\n",
        "                <strong title=\"9.1 based on 1,900,000 user ratings\">9.1</strong>\n",
        "            </td>\n",
        "        </tr>\n",
        "    </tbody>\n",
        "</table>\n",
        "'''"
      ],
      "metadata": {
        "id": "ucN4QGYjqKIo"
      },
      "execution_count": 3,
      "outputs": []
    },
    {
      "cell_type": "code",
      "source": [
        "# Step 3: Parse HTML using BeautifulSoup\n",
        "soup = BeautifulSoup(html, \"html.parser\")\n",
        "movies_table = soup.find(\"table\", class_=\"chart\")"
      ],
      "metadata": {
        "id": "YcPIb0A7qZ20"
      },
      "execution_count": 4,
      "outputs": []
    },
    {
      "cell_type": "code",
      "source": [
        "# Step 4: Extract movie data\n",
        "movies = []\n",
        "for row in movies_table.find_all(\"tr\"):\n",
        "    title_column = row.find(\"td\", class_=\"titleColumn\")\n",
        "    rating_column = row.find(\"td\", class_=\"ratingColumn imdbRating\")"
      ],
      "metadata": {
        "id": "kIM5MRlJqcIC"
      },
      "execution_count": 5,
      "outputs": []
    },
    {
      "cell_type": "code",
      "source": [
        "if title_column and rating_column:\n",
        "        rank = title_column.get_text(strip=True).split('.')[0]\n",
        "        title = title_column.find(\"a\").text\n",
        "        year = title_column.find(\"span\").text.strip(\"()\")\n",
        "        rating = rating_column.find(\"strong\").text\n",
        "        movies.append({\"Rank\": int(rank), \"Title\": title, \"Year\": int(year), \"Rating\": float(rating)})"
      ],
      "metadata": {
        "id": "MeFmJol6qgF6"
      },
      "execution_count": 6,
      "outputs": []
    },
    {
      "cell_type": "code",
      "source": [
        "\n",
        "# Step 5: Store in CSV using pandas\n",
        "df = pd.DataFrame(movies)\n",
        "df.to_csv(\"imdb_top_movies.csv\", index=False)"
      ],
      "metadata": {
        "id": "sHPBjo8IqmbE"
      },
      "execution_count": 7,
      "outputs": []
    },
    {
      "cell_type": "code",
      "source": [
        "# Step 6: Display the result\n",
        "print(df)"
      ],
      "metadata": {
        "colab": {
          "base_uri": "https://localhost:8080/"
        },
        "id": "7UKM6Ow6qqtU",
        "outputId": "1a480d40-ffd1-4323-bae9-fa635256693a"
      },
      "execution_count": 8,
      "outputs": [
        {
          "output_type": "stream",
          "name": "stdout",
          "text": [
            "   Rank          Title  Year  Rating\n",
            "0     2  The Godfather  1972     9.1\n"
          ]
        }
      ]
    },
    {
      "cell_type": "code",
      "source": [
        "import requests\n",
        "\n",
        "url = \"https://www.imdb.com/chart/top\"\n",
        "headers = {\"User-Agent\": \"Mozilla/5.0\"}\n",
        "response = requests.get(url, headers=headers)\n",
        "html = response.text\n"
      ],
      "metadata": {
        "id": "pdDso9oMqtgE"
      },
      "execution_count": 9,
      "outputs": []
    }
  ]
}