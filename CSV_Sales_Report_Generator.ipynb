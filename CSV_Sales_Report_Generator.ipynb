{
  "nbformat": 4,
  "nbformat_minor": 0,
  "metadata": {
    "colab": {
      "provenance": [],
      "authorship_tag": "ABX9TyNRIA1mtk99p8vqMkX04GQU",
      "include_colab_link": true
    },
    "kernelspec": {
      "name": "python3",
      "display_name": "Python 3"
    },
    "language_info": {
      "name": "python"
    }
  },
  "cells": [
    {
      "cell_type": "markdown",
      "metadata": {
        "id": "view-in-github",
        "colab_type": "text"
      },
      "source": [
        "<a href=\"https://colab.research.google.com/github/Rutuja2610647/Python_Project/blob/main/CSV_Sales_Report_Generator.ipynb\" target=\"_parent\"><img src=\"https://colab.research.google.com/assets/colab-badge.svg\" alt=\"Open In Colab\"/></a>"
      ]
    },
    {
      "cell_type": "code",
      "execution_count": 1,
      "metadata": {
        "id": "M59pNSJaub7x"
      },
      "outputs": [],
      "source": [
        "# Step 1: Import required libraries\n",
        "import pandas as pd"
      ]
    },
    {
      "cell_type": "code",
      "source": [
        "\n",
        "# Step 2: Simulate reading from a CSV file (or replace this with pd.read_csv(\"filename.csv\"))\n",
        "data = {\n",
        "    \"date\": [\"2025-07-01\", \"2025-07-01\", \"2025-07-02\", \"2025-07-02\", \"2025-07-03\", \"2025-07-03\"],\n",
        "    \"product\": [\"Chips\", \"Nuts\", \"Chips\", \"Nuts\", \"Juice\", \"Chips\"],\n",
        "    \"quantity\": [5, 2, 3, 4, 6, 1],\n",
        "    \"price\": [10, 20, 10, 20, 15, 10]\n",
        "}\n",
        "df = pd.DataFrame(data)"
      ],
      "metadata": {
        "id": "BRJbfs3hurVQ"
      },
      "execution_count": 2,
      "outputs": []
    },
    {
      "cell_type": "code",
      "source": [
        "\n",
        "# Step 3: Handle missing or invalid data\n",
        "df.dropna(inplace=True)  # remove missing rows\n",
        "df = df[df[\"quantity\"] > 0]  # filter out invalid quantities"
      ],
      "metadata": {
        "id": "Jgt2zrWiuuij"
      },
      "execution_count": 3,
      "outputs": []
    },
    {
      "cell_type": "code",
      "source": [
        "# Step 4: Calculate total column\n",
        "df[\"total\"] = df[\"quantity\"] * df[\"price\"]"
      ],
      "metadata": {
        "id": "YWq1KTOyuyJb"
      },
      "execution_count": 4,
      "outputs": []
    },
    {
      "cell_type": "code",
      "source": [
        "# Step 5: Calculate required insights\n",
        "total_revenue = df[\"total\"].sum()\n",
        "\n",
        "top_product = df.groupby(\"product\")[\"quantity\"].sum().idxmax()\n",
        "top_quantity = df.groupby(\"product\")[\"quantity\"].sum().max()\n",
        "\n",
        "average_sales_per_day = df.groupby(\"date\")[\"total\"].sum().mean()"
      ],
      "metadata": {
        "id": "xCM0qaEQu1nh"
      },
      "execution_count": 5,
      "outputs": []
    },
    {
      "cell_type": "code",
      "source": [
        "# Step 6: Create report text\n",
        "report = f\"\"\"\n",
        "Sales Report\n",
        "============\n",
        "Total Revenue: ₹{total_revenue}\n",
        "Top-Selling Product: {top_product} ({top_quantity} units sold)\n",
        "Average Sales Per Day: ₹{average_sales_per_day:.2f}\n",
        "\"\"\""
      ],
      "metadata": {
        "id": "aQI8aaVcu6Np"
      },
      "execution_count": 6,
      "outputs": []
    },
    {
      "cell_type": "code",
      "source": [
        "# Step 7: Save report to new CSV\n",
        "report_df = pd.DataFrame({\n",
        "    \"Metric\": [\"Total Revenue\", \"Top Product\", \"Units Sold\", \"Avg Daily Sales\"],\n",
        "    \"Value\": [f\"₹{total_revenue}\", top_product, top_quantity, f\"₹{average_sales_per_day:.2f}\"]\n",
        "})\n",
        "report_df.to_csv(\"sales_report_summary.csv\", index=False)"
      ],
      "metadata": {
        "id": "MEUu2CGfvBRT"
      },
      "execution_count": 7,
      "outputs": []
    },
    {
      "cell_type": "code",
      "source": [
        "# Step 8: Print report\n",
        "print(report)"
      ],
      "metadata": {
        "colab": {
          "base_uri": "https://localhost:8080/"
        },
        "id": "5II3n_VVvFzX",
        "outputId": "f7273356-a93a-4f07-98c0-a37a7e064ce6"
      },
      "execution_count": 8,
      "outputs": [
        {
          "output_type": "stream",
          "name": "stdout",
          "text": [
            "\n",
            "Sales Report\n",
            "============\n",
            "Total Revenue: ₹300\n",
            "Top-Selling Product: Chips (9 units sold)\n",
            "Average Sales Per Day: ₹100.00\n",
            "\n"
          ]
        }
      ]
    }
  ]
}